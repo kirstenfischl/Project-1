{
 "cells": [
  {
   "cell_type": "markdown",
   "metadata": {},
   "source": [
    "## Dependencies"
   ]
  },
  {
   "cell_type": "code",
   "execution_count": 1,
   "metadata": {
    "scrolled": true
   },
   "outputs": [],
   "source": [
    "# Dependencies and Setup\n",
    "import matplotlib.pyplot as plt\n",
    "import pandas as pd\n",
    "import numpy as np\n",
    "import requests\n",
    "import time\n",
    "from scipy.stats import linregress"
   ]
  },
  {
   "cell_type": "markdown",
   "metadata": {},
   "source": [
    "## Read and Clean Dataset"
   ]
  },
  {
   "cell_type": "code",
   "execution_count": 2,
   "metadata": {},
   "outputs": [
    {
     "data": {
      "text/plain": [
       "encounter_timestamp    1855\n",
       "park_area_id           1855\n",
       "park_district          1855\n",
       "park_borough           1855\n",
       "patroncount            1855\n",
       "in_playground          1855\n",
       "action_taken           1855\n",
       "amenity                1168\n",
       "dtype: int64"
      ]
     },
     "execution_count": 2,
     "metadata": {},
     "output_type": "execute_result"
    }
   ],
   "source": [
    "crowd_data = pd.read_csv('Social_Distancing__Parks_Crowds_Data.csv')\n",
    "crowd_data.count()"
   ]
  },
  {
   "cell_type": "code",
   "execution_count": 3,
   "metadata": {},
   "outputs": [
    {
     "data": {
      "text/plain": [
       "encounter_timestamp    1168\n",
       "park_area_id           1168\n",
       "park_district          1168\n",
       "park_borough           1168\n",
       "patroncount            1168\n",
       "in_playground          1168\n",
       "action_taken           1168\n",
       "amenity                1168\n",
       "dtype: int64"
      ]
     },
     "execution_count": 3,
     "metadata": {},
     "output_type": "execute_result"
    }
   ],
   "source": [
    "crowd_data.dropna(inplace = True)\n",
    "crowd_data.count()"
   ]
  },
  {
   "cell_type": "code",
   "execution_count": 4,
   "metadata": {},
   "outputs": [
    {
     "data": {
      "text/html": [
       "<div>\n",
       "<style scoped>\n",
       "    .dataframe tbody tr th:only-of-type {\n",
       "        vertical-align: middle;\n",
       "    }\n",
       "\n",
       "    .dataframe tbody tr th {\n",
       "        vertical-align: top;\n",
       "    }\n",
       "\n",
       "    .dataframe thead th {\n",
       "        text-align: right;\n",
       "    }\n",
       "</style>\n",
       "<table border=\"1\" class=\"dataframe\">\n",
       "  <thead>\n",
       "    <tr style=\"text-align: right;\">\n",
       "      <th></th>\n",
       "      <th>encounter_timestamp</th>\n",
       "      <th>park_area_id</th>\n",
       "      <th>park_district</th>\n",
       "      <th>park_borough</th>\n",
       "      <th>patroncount</th>\n",
       "      <th>in_playground</th>\n",
       "      <th>action_taken</th>\n",
       "      <th>amenity</th>\n",
       "    </tr>\n",
       "  </thead>\n",
       "  <tbody>\n",
       "    <tr>\n",
       "      <td>0</td>\n",
       "      <td>07/07/2020 02:33:23 PM</td>\n",
       "      <td>X179</td>\n",
       "      <td>X-02</td>\n",
       "      <td>Bronx</td>\n",
       "      <td>50</td>\n",
       "      <td>True</td>\n",
       "      <td>Approached the crowd; they ignored the employee</td>\n",
       "      <td>Basketball court</td>\n",
       "    </tr>\n",
       "    <tr>\n",
       "      <td>1</td>\n",
       "      <td>07/05/2020 10:40:24 AM</td>\n",
       "      <td>B247</td>\n",
       "      <td>B-18</td>\n",
       "      <td>Brooklyn</td>\n",
       "      <td>50</td>\n",
       "      <td>False</td>\n",
       "      <td>Approached the crowd; they ignored the employee</td>\n",
       "      <td>Baseball field</td>\n",
       "    </tr>\n",
       "    <tr>\n",
       "      <td>2</td>\n",
       "      <td>07/04/2020 12:56:31 PM</td>\n",
       "      <td>B247</td>\n",
       "      <td>B-18</td>\n",
       "      <td>Brooklyn</td>\n",
       "      <td>20</td>\n",
       "      <td>False</td>\n",
       "      <td>Approached the crowd; they ignored the employee</td>\n",
       "      <td>Bench/sitting area</td>\n",
       "    </tr>\n",
       "    <tr>\n",
       "      <td>3</td>\n",
       "      <td>07/03/2020 10:16:52 PM</td>\n",
       "      <td>Q377</td>\n",
       "      <td>Q-06</td>\n",
       "      <td>Queens</td>\n",
       "      <td>75</td>\n",
       "      <td>False</td>\n",
       "      <td>Did not approach the crowd; the crowd remains</td>\n",
       "      <td>Soccer field</td>\n",
       "    </tr>\n",
       "    <tr>\n",
       "      <td>4</td>\n",
       "      <td>07/02/2020 03:11:30 PM</td>\n",
       "      <td>B018</td>\n",
       "      <td>B-18</td>\n",
       "      <td>Brooklyn</td>\n",
       "      <td>75</td>\n",
       "      <td>False</td>\n",
       "      <td>Approached the crowd; they ignored the employee</td>\n",
       "      <td>Open field/multi-purpose play area</td>\n",
       "    </tr>\n",
       "  </tbody>\n",
       "</table>\n",
       "</div>"
      ],
      "text/plain": [
       "      encounter_timestamp park_area_id park_district park_borough  \\\n",
       "0  07/07/2020 02:33:23 PM         X179          X-02        Bronx   \n",
       "1  07/05/2020 10:40:24 AM         B247          B-18     Brooklyn   \n",
       "2  07/04/2020 12:56:31 PM         B247          B-18     Brooklyn   \n",
       "3  07/03/2020 10:16:52 PM         Q377          Q-06       Queens   \n",
       "4  07/02/2020 03:11:30 PM         B018          B-18     Brooklyn   \n",
       "\n",
       "   patroncount  in_playground  \\\n",
       "0           50           True   \n",
       "1           50          False   \n",
       "2           20          False   \n",
       "3           75          False   \n",
       "4           75          False   \n",
       "\n",
       "                                      action_taken  \\\n",
       "0  Approached the crowd; they ignored the employee   \n",
       "1  Approached the crowd; they ignored the employee   \n",
       "2  Approached the crowd; they ignored the employee   \n",
       "3    Did not approach the crowd; the crowd remains   \n",
       "4  Approached the crowd; they ignored the employee   \n",
       "\n",
       "                              amenity  \n",
       "0                    Basketball court  \n",
       "1                      Baseball field  \n",
       "2                  Bench/sitting area  \n",
       "3                        Soccer field  \n",
       "4  Open field/multi-purpose play area  "
      ]
     },
     "execution_count": 4,
     "metadata": {},
     "output_type": "execute_result"
    }
   ],
   "source": [
    "crowd_data.head()"
   ]
  },
  {
   "cell_type": "code",
   "execution_count": 13,
   "metadata": {},
   "outputs": [
    {
     "data": {
      "text/plain": [
       "encounter_timestamp    datetime64[ns]\n",
       "park_area_id                   object\n",
       "park_district                  object\n",
       "park_borough                   object\n",
       "patroncount                     int64\n",
       "in_playground                    bool\n",
       "amenity                        object\n",
       "action                         object\n",
       "response                       object\n",
       "dtype: object"
      ]
     },
     "execution_count": 13,
     "metadata": {},
     "output_type": "execute_result"
    }
   ],
   "source": [
    "#Decided NOT to split into date and time columns to be able to cast datetime data type\n",
    "\n",
    "#date_time = crowd_data[\"encounter_timestamp\"].str.split(\" \", n=1, expand = True)\n",
    "#crowd_data[\"date\"]=date_time[0]\n",
    "#crowd_data[\"time\"]=date_time[1]\n",
    "#crowd_data.drop(columns=[\"encounter_timestamp\"], inplace=True)\n",
    "\n",
    "crowd_data['encounter_timestamp'] = pd.to_datetime(crowd_data['encounter_timestamp'])\n",
    "crowd_data.dtypes"
   ]
  },
  {
   "cell_type": "code",
   "execution_count": 6,
   "metadata": {},
   "outputs": [],
   "source": [
    "new_action = crowd_data[\"action_taken\"].str.split(\"; \", n=1, expand = True)\n",
    "crowd_data[\"action\"]=new_action[0]\n",
    "crowd_data[\"response\"]=new_action[1]\n",
    "crowd_data.drop(columns=[\"action_taken\"], inplace=True)"
   ]
  },
  {
   "cell_type": "code",
   "execution_count": 7,
   "metadata": {},
   "outputs": [
    {
     "data": {
      "text/html": [
       "<div>\n",
       "<style scoped>\n",
       "    .dataframe tbody tr th:only-of-type {\n",
       "        vertical-align: middle;\n",
       "    }\n",
       "\n",
       "    .dataframe tbody tr th {\n",
       "        vertical-align: top;\n",
       "    }\n",
       "\n",
       "    .dataframe thead th {\n",
       "        text-align: right;\n",
       "    }\n",
       "</style>\n",
       "<table border=\"1\" class=\"dataframe\">\n",
       "  <thead>\n",
       "    <tr style=\"text-align: right;\">\n",
       "      <th></th>\n",
       "      <th>encounter_timestamp</th>\n",
       "      <th>park_area_id</th>\n",
       "      <th>park_district</th>\n",
       "      <th>park_borough</th>\n",
       "      <th>patroncount</th>\n",
       "      <th>in_playground</th>\n",
       "      <th>amenity</th>\n",
       "      <th>action</th>\n",
       "      <th>response</th>\n",
       "    </tr>\n",
       "  </thead>\n",
       "  <tbody>\n",
       "    <tr>\n",
       "      <td>0</td>\n",
       "      <td>07/07/2020 02:33:23 PM</td>\n",
       "      <td>X179</td>\n",
       "      <td>X-02</td>\n",
       "      <td>Bronx</td>\n",
       "      <td>50</td>\n",
       "      <td>True</td>\n",
       "      <td>Basketball court</td>\n",
       "      <td>Approached the crowd</td>\n",
       "      <td>Ignored employee</td>\n",
       "    </tr>\n",
       "    <tr>\n",
       "      <td>1</td>\n",
       "      <td>07/05/2020 10:40:24 AM</td>\n",
       "      <td>B247</td>\n",
       "      <td>B-18</td>\n",
       "      <td>Brooklyn</td>\n",
       "      <td>50</td>\n",
       "      <td>False</td>\n",
       "      <td>Baseball field</td>\n",
       "      <td>Approached the crowd</td>\n",
       "      <td>Ignored employee</td>\n",
       "    </tr>\n",
       "    <tr>\n",
       "      <td>2</td>\n",
       "      <td>07/04/2020 12:56:31 PM</td>\n",
       "      <td>B247</td>\n",
       "      <td>B-18</td>\n",
       "      <td>Brooklyn</td>\n",
       "      <td>20</td>\n",
       "      <td>False</td>\n",
       "      <td>Bench/sitting area</td>\n",
       "      <td>Approached the crowd</td>\n",
       "      <td>Ignored employee</td>\n",
       "    </tr>\n",
       "    <tr>\n",
       "      <td>3</td>\n",
       "      <td>07/03/2020 10:16:52 PM</td>\n",
       "      <td>Q377</td>\n",
       "      <td>Q-06</td>\n",
       "      <td>Queens</td>\n",
       "      <td>75</td>\n",
       "      <td>False</td>\n",
       "      <td>Soccer field</td>\n",
       "      <td>Did not approach the crowd</td>\n",
       "      <td>Crowd remains</td>\n",
       "    </tr>\n",
       "    <tr>\n",
       "      <td>4</td>\n",
       "      <td>07/02/2020 03:11:30 PM</td>\n",
       "      <td>B018</td>\n",
       "      <td>B-18</td>\n",
       "      <td>Brooklyn</td>\n",
       "      <td>75</td>\n",
       "      <td>False</td>\n",
       "      <td>Open field/multi-purpose play area</td>\n",
       "      <td>Approached the crowd</td>\n",
       "      <td>Ignored employee</td>\n",
       "    </tr>\n",
       "    <tr>\n",
       "      <td>...</td>\n",
       "      <td>...</td>\n",
       "      <td>...</td>\n",
       "      <td>...</td>\n",
       "      <td>...</td>\n",
       "      <td>...</td>\n",
       "      <td>...</td>\n",
       "      <td>...</td>\n",
       "      <td>...</td>\n",
       "      <td>...</td>\n",
       "    </tr>\n",
       "    <tr>\n",
       "      <td>1850</td>\n",
       "      <td>07/14/2020 11:08:32 AM</td>\n",
       "      <td>B329-01</td>\n",
       "      <td>B-18</td>\n",
       "      <td>Brooklyn</td>\n",
       "      <td>100</td>\n",
       "      <td>True</td>\n",
       "      <td>Playground</td>\n",
       "      <td>Approached the crowd</td>\n",
       "      <td>Ignored employee</td>\n",
       "    </tr>\n",
       "    <tr>\n",
       "      <td>1851</td>\n",
       "      <td>07/14/2020 11:00:53 AM</td>\n",
       "      <td>B016</td>\n",
       "      <td>B-04</td>\n",
       "      <td>Brooklyn</td>\n",
       "      <td>25</td>\n",
       "      <td>False</td>\n",
       "      <td>Open field/multi-purpose play area</td>\n",
       "      <td>Did not approach the crowd</td>\n",
       "      <td>Crowd remains</td>\n",
       "    </tr>\n",
       "    <tr>\n",
       "      <td>1852</td>\n",
       "      <td>07/14/2020 10:00:38 AM</td>\n",
       "      <td>B529</td>\n",
       "      <td>B-01</td>\n",
       "      <td>Brooklyn</td>\n",
       "      <td>15</td>\n",
       "      <td>False</td>\n",
       "      <td>Open field/multi-purpose play area</td>\n",
       "      <td>Did not approach the crowd</td>\n",
       "      <td>Crowd remains</td>\n",
       "    </tr>\n",
       "    <tr>\n",
       "      <td>1853</td>\n",
       "      <td>07/15/2020 01:23:32 PM</td>\n",
       "      <td>M029-01</td>\n",
       "      <td>M-12</td>\n",
       "      <td>Manhattan</td>\n",
       "      <td>15</td>\n",
       "      <td>True</td>\n",
       "      <td>Adult fitness equipment</td>\n",
       "      <td>Did not approach the crowd</td>\n",
       "      <td>Crowd remains</td>\n",
       "    </tr>\n",
       "    <tr>\n",
       "      <td>1854</td>\n",
       "      <td>07/16/2020 11:38:00 AM</td>\n",
       "      <td>R046-06</td>\n",
       "      <td>R-02B</td>\n",
       "      <td>Staten Island</td>\n",
       "      <td>20</td>\n",
       "      <td>True</td>\n",
       "      <td>Basketball court</td>\n",
       "      <td>Did not approach the crowd</td>\n",
       "      <td>Crowd remains</td>\n",
       "    </tr>\n",
       "  </tbody>\n",
       "</table>\n",
       "<p>1168 rows × 9 columns</p>\n",
       "</div>"
      ],
      "text/plain": [
       "         encounter_timestamp park_area_id park_district   park_borough  \\\n",
       "0     07/07/2020 02:33:23 PM         X179          X-02          Bronx   \n",
       "1     07/05/2020 10:40:24 AM         B247          B-18       Brooklyn   \n",
       "2     07/04/2020 12:56:31 PM         B247          B-18       Brooklyn   \n",
       "3     07/03/2020 10:16:52 PM         Q377          Q-06         Queens   \n",
       "4     07/02/2020 03:11:30 PM         B018          B-18       Brooklyn   \n",
       "...                      ...          ...           ...            ...   \n",
       "1850  07/14/2020 11:08:32 AM      B329-01          B-18       Brooklyn   \n",
       "1851  07/14/2020 11:00:53 AM         B016          B-04       Brooklyn   \n",
       "1852  07/14/2020 10:00:38 AM         B529          B-01       Brooklyn   \n",
       "1853  07/15/2020 01:23:32 PM      M029-01          M-12      Manhattan   \n",
       "1854  07/16/2020 11:38:00 AM      R046-06         R-02B  Staten Island   \n",
       "\n",
       "      patroncount  in_playground                             amenity  \\\n",
       "0              50           True                    Basketball court   \n",
       "1              50          False                      Baseball field   \n",
       "2              20          False                  Bench/sitting area   \n",
       "3              75          False                        Soccer field   \n",
       "4              75          False  Open field/multi-purpose play area   \n",
       "...           ...            ...                                 ...   \n",
       "1850          100           True                          Playground   \n",
       "1851           25          False  Open field/multi-purpose play area   \n",
       "1852           15          False  Open field/multi-purpose play area   \n",
       "1853           15           True             Adult fitness equipment   \n",
       "1854           20           True                    Basketball court   \n",
       "\n",
       "                          action          response  \n",
       "0           Approached the crowd  Ignored employee  \n",
       "1           Approached the crowd  Ignored employee  \n",
       "2           Approached the crowd  Ignored employee  \n",
       "3     Did not approach the crowd     Crowd remains  \n",
       "4           Approached the crowd  Ignored employee  \n",
       "...                          ...               ...  \n",
       "1850        Approached the crowd  Ignored employee  \n",
       "1851  Did not approach the crowd     Crowd remains  \n",
       "1852  Did not approach the crowd     Crowd remains  \n",
       "1853  Did not approach the crowd     Crowd remains  \n",
       "1854  Did not approach the crowd     Crowd remains  \n",
       "\n",
       "[1168 rows x 9 columns]"
      ]
     },
     "execution_count": 7,
     "metadata": {},
     "output_type": "execute_result"
    }
   ],
   "source": [
    "crowd_data = crowd_data.replace({'they ignored the employee': 'Ignored employee'}, regex=True)\n",
    "crowd_data = crowd_data.replace({'the crowd remains': 'Crowd remains'}, regex=True)\n",
    "crowd_data = crowd_data.replace({'they complied with instructions': 'Complied with instructions'}, regex=True)\n",
    "crowd_data\n",
    "\n",
    "#crowd_data.to_csv('crowd_data_clean.csv')"
   ]
  },
  {
   "cell_type": "code",
   "execution_count": 12,
   "metadata": {},
   "outputs": [
    {
     "data": {
      "text/plain": [
       "encounter_timestamp    datetime64[ns]\n",
       "park_area_id                   object\n",
       "park_district                  object\n",
       "park_borough                   object\n",
       "patroncount                     int64\n",
       "in_playground                    bool\n",
       "amenity                        object\n",
       "action                         object\n",
       "response                       object\n",
       "dtype: object"
      ]
     },
     "execution_count": 12,
     "metadata": {},
     "output_type": "execute_result"
    }
   ],
   "source": []
  },
  {
   "cell_type": "markdown",
   "metadata": {},
   "source": [
    "## Q1 - Which boroughs and amenities experience the most overcrowding?"
   ]
  },
  {
   "cell_type": "code",
   "execution_count": 8,
   "metadata": {
    "scrolled": true
   },
   "outputs": [
    {
     "data": {
      "image/png": "[encoded data removed]",
      "text/plain": [
       "<Figure size 432x288 with 1 Axes>"
      ]
     },
     "metadata": {
      "needs_background": "light"
     },
     "output_type": "display_data"
    }
   ],
   "source": [
    "#Q1 - WHICH BOROUGHS ARE MOST LIKELY TO EXPERIENCE OVERCROWDING?\n",
    "\n",
    "borough_group = crowd_data.groupby('park_borough')\n",
    "count_boroughs = borough_group['park_borough'].count()\n",
    "count_boroughs = count_boroughs.sort_values(ascending=False)\n",
    "count_chart = count_boroughs.plot(kind='bar')\n",
    "count_chart.set_xlabel(\"Borough\")\n",
    "count_chart.set_ylabel(\"Number of Overcrowding Incidents\")\n",
    "\n",
    "plt.show()"
   ]
  },
  {
   "cell_type": "code",
   "execution_count": 33,
   "metadata": {},
   "outputs": [
    {
     "data": {
      "image/png": "[encoded data removed]",
      "text/plain": [
       "<Figure size 432x288 with 1 Axes>"
      ]
     },
     "metadata": {
      "needs_background": "light"
     },
     "output_type": "display_data"
    }
   ],
   "source": [
    "#Q1 - WHICH AMENITIES ARE MOST LIKELY TO ATTRACT OVERCROWDING?\n",
    "\n",
    "amenity_group = crowd_data.groupby('amenity')\n",
    "count_amenity = amenity_group['amenity'].count()\n",
    "count_amenity = count_amenity.sort_values()\n",
    "amenity_chart = count_amenity.plot(kind='barh')\n",
    "amenity_chart.set_xlabel(\"Number of Overcrowding Incidents\")\n",
    "amenity_chart.set_ylabel(\"Amenity Type\")\n",
    "\n",
    "plt.show()"
   ]
  },
  {
   "cell_type": "markdown",
   "metadata": {},
   "source": [
    "## Q2 - How effective are patrol officers?"
   ]
  },
  {
   "cell_type": "code",
   "execution_count": 26,
   "metadata": {},
   "outputs": [
    {
     "data": {
      "text/plain": [
       "([<matplotlib.patches.Wedge at 0x152ce993f08>,\n",
       "  <matplotlib.patches.Wedge at 0x152ce99e2c8>],\n",
       " [Text(-0.1210605843105266, 1.0933180392394495, 'Approached the crowd'),\n",
       "  Text(0.12106058431052624, -1.0933180392394495, 'Did not approach the crowd')])"
      ]
     },
     "execution_count": 26,
     "metadata": {},
     "output_type": "execute_result"
    },
    {
     "data": {
      "image/png": "[encoded data removed]",
      "text/plain": [
       "<Figure size 432x288 with 1 Axes>"
      ]
     },
     "metadata": {},
     "output_type": "display_data"
    }
   ],
   "source": [
    "action_labels = 'Approached the crowd', 'Did not approach the crowd'\n",
    "actions_group = crowd_data.groupby('action')\n",
    "action_count = actions_group['action'].count()\n",
    "\n",
    "#action_count.count\n",
    "\n",
    "fig1, ax1 = plt.subplots()\n",
    "ax1.pie(action_count, labels=action_labels)"
   ]
  },
  {
   "cell_type": "code",
   "execution_count": 32,
   "metadata": {},
   "outputs": [
    {
     "data": {
      "text/plain": [
       "([<matplotlib.patches.Wedge at 0x152cec8d448>,\n",
       "  <matplotlib.patches.Wedge at 0x152cec8d788>,\n",
       "  <matplotlib.patches.Wedge at 0x152cec8de88>],\n",
       " [Text(0.8568431400950713, 0.6897969507558134, 'Complied with instructions'),\n",
       "  Text(-1.0422555029264153, 0.35171503610111027, 'Crowd remains'),\n",
       "  Text(0.5913068783958589, -0.9275538666631415, 'Ignored employee')])"
      ]
     },
     "execution_count": 32,
     "metadata": {},
     "output_type": "execute_result"
    },
    {
     "data": {
      "image/png": "[encoded data removed]",
      "text/plain": [
       "<Figure size 432x288 with 1 Axes>"
      ]
     },
     "metadata": {},
     "output_type": "display_data"
    }
   ],
   "source": [
    "response_labels = 'Complied with instructions', 'Crowd remains', 'Ignored employee'\n",
    "response_group = crowd_data.groupby('response')\n",
    "response_count = response_group['response'].count()\n",
    "\n",
    "#response_count.count\n",
    "\n",
    "fig2, ax2 = plt.subplots()\n",
    "ax2.pie(response_count, labels=response_labels)"
   ]
  },
  {
   "cell_type": "markdown",
   "metadata": {},
   "source": [
    "## Q3 - How have outdoor social events evolved over time?"
   ]
  },
  {
   "cell_type": "code",
   "execution_count": null,
   "metadata": {},
   "outputs": [],
   "source": [
    "What days have seen the most overcrowding since lockdown?\n",
    "average no. of incidents per day? per borough? "
   ]
  },
  {
   "cell_type": "code",
   "execution_count": null,
   "metadata": {},
   "outputs": [],
   "source": []
  },
  {
   "cell_type": "code",
   "execution_count": 36,
   "metadata": {},
   "outputs": [
    {
     "ename": "KeyError",
     "evalue": "'Borough'",
     "output_type": "error",
     "traceback": [
      "\u001b[1;31m---------------------------------------------------------------------------\u001b[0m",
      "\u001b[1;31mKeyError\u001b[0m                                  Traceback (most recent call last)",
      "\u001b[1;32m<ipython-input-36-8caaea3ac8c8>\u001b[0m in \u001b[0;36m<module>\u001b[1;34m\u001b[0m\n\u001b[0;32m      1\u001b[0m \u001b[0mcount_boroughs\u001b[0m \u001b[1;33m=\u001b[0m \u001b[0mborough_group\u001b[0m\u001b[1;33m[\u001b[0m\u001b[1;34m'park_borough'\u001b[0m\u001b[1;33m]\u001b[0m\u001b[1;33m.\u001b[0m\u001b[0mcount\u001b[0m\u001b[1;33m(\u001b[0m\u001b[1;33m)\u001b[0m\u001b[1;33m\u001b[0m\u001b[1;33m\u001b[0m\u001b[0m\n\u001b[1;32m----> 2\u001b[1;33m \u001b[0mcrowd_data\u001b[0m\u001b[1;33m.\u001b[0m\u001b[0mgroupby\u001b[0m\u001b[1;33m(\u001b[0m\u001b[1;34m'Borough'\u001b[0m\u001b[1;33m)\u001b[0m\u001b[1;33m[\u001b[0m\u001b[0mcount_boroughs\u001b[0m\u001b[1;33m]\u001b[0m\u001b[1;33m.\u001b[0m\u001b[0mplot\u001b[0m\u001b[1;33m(\u001b[0m\u001b[0mlegend\u001b[0m\u001b[1;33m=\u001b[0m\u001b[1;34m'True'\u001b[0m\u001b[1;33m)\u001b[0m\u001b[1;33m\u001b[0m\u001b[1;33m\u001b[0m\u001b[0m\n\u001b[0m\u001b[0;32m      3\u001b[0m \u001b[0mplt\u001b[0m\u001b[1;33m.\u001b[0m\u001b[0mshow\u001b[0m\u001b[1;33m(\u001b[0m\u001b[1;33m)\u001b[0m\u001b[1;33m\u001b[0m\u001b[1;33m\u001b[0m\u001b[0m\n",
      "\u001b[1;32m~\\AppData\\Local\\Continuum\\anaconda3\\lib\\site-packages\\pandas\\core\\generic.py\u001b[0m in \u001b[0;36mgroupby\u001b[1;34m(self, by, axis, level, as_index, sort, group_keys, squeeze, observed, **kwargs)\u001b[0m\n\u001b[0;32m   7892\u001b[0m             \u001b[0msqueeze\u001b[0m\u001b[1;33m=\u001b[0m\u001b[0msqueeze\u001b[0m\u001b[1;33m,\u001b[0m\u001b[1;33m\u001b[0m\u001b[1;33m\u001b[0m\u001b[0m\n\u001b[0;32m   7893\u001b[0m             \u001b[0mobserved\u001b[0m\u001b[1;33m=\u001b[0m\u001b[0mobserved\u001b[0m\u001b[1;33m,\u001b[0m\u001b[1;33m\u001b[0m\u001b[1;33m\u001b[0m\u001b[0m\n\u001b[1;32m-> 7894\u001b[1;33m             \u001b[1;33m**\u001b[0m\u001b[0mkwargs\u001b[0m\u001b[1;33m\u001b[0m\u001b[1;33m\u001b[0m\u001b[0m\n\u001b[0m\u001b[0;32m   7895\u001b[0m         )\n\u001b[0;32m   7896\u001b[0m \u001b[1;33m\u001b[0m\u001b[0m\n",
      "\u001b[1;32m~\\AppData\\Local\\Continuum\\anaconda3\\lib\\site-packages\\pandas\\core\\groupby\\groupby.py\u001b[0m in \u001b[0;36mgroupby\u001b[1;34m(obj, by, **kwds)\u001b[0m\n\u001b[0;32m   2520\u001b[0m         \u001b[1;32mraise\u001b[0m \u001b[0mTypeError\u001b[0m\u001b[1;33m(\u001b[0m\u001b[1;34m\"invalid type: {}\"\u001b[0m\u001b[1;33m.\u001b[0m\u001b[0mformat\u001b[0m\u001b[1;33m(\u001b[0m\u001b[0mobj\u001b[0m\u001b[1;33m)\u001b[0m\u001b[1;33m)\u001b[0m\u001b[1;33m\u001b[0m\u001b[1;33m\u001b[0m\u001b[0m\n\u001b[0;32m   2521\u001b[0m \u001b[1;33m\u001b[0m\u001b[0m\n\u001b[1;32m-> 2522\u001b[1;33m     \u001b[1;32mreturn\u001b[0m \u001b[0mklass\u001b[0m\u001b[1;33m(\u001b[0m\u001b[0mobj\u001b[0m\u001b[1;33m,\u001b[0m \u001b[0mby\u001b[0m\u001b[1;33m,\u001b[0m \u001b[1;33m**\u001b[0m\u001b[0mkwds\u001b[0m\u001b[1;33m)\u001b[0m\u001b[1;33m\u001b[0m\u001b[1;33m\u001b[0m\u001b[0m\n\u001b[0m",
      "\u001b[1;32m~\\AppData\\Local\\Continuum\\anaconda3\\lib\\site-packages\\pandas\\core\\groupby\\groupby.py\u001b[0m in \u001b[0;36m__init__\u001b[1;34m(self, obj, keys, axis, level, grouper, exclusions, selection, as_index, sort, group_keys, squeeze, observed, **kwargs)\u001b[0m\n\u001b[0;32m    389\u001b[0m                 \u001b[0msort\u001b[0m\u001b[1;33m=\u001b[0m\u001b[0msort\u001b[0m\u001b[1;33m,\u001b[0m\u001b[1;33m\u001b[0m\u001b[1;33m\u001b[0m\u001b[0m\n\u001b[0;32m    390\u001b[0m                 \u001b[0mobserved\u001b[0m\u001b[1;33m=\u001b[0m\u001b[0mobserved\u001b[0m\u001b[1;33m,\u001b[0m\u001b[1;33m\u001b[0m\u001b[1;33m\u001b[0m\u001b[0m\n\u001b[1;32m--> 391\u001b[1;33m                 \u001b[0mmutated\u001b[0m\u001b[1;33m=\u001b[0m\u001b[0mself\u001b[0m\u001b[1;33m.\u001b[0m\u001b[0mmutated\u001b[0m\u001b[1;33m,\u001b[0m\u001b[1;33m\u001b[0m\u001b[1;33m\u001b[0m\u001b[0m\n\u001b[0m\u001b[0;32m    392\u001b[0m             )\n\u001b[0;32m    393\u001b[0m \u001b[1;33m\u001b[0m\u001b[0m\n",
      "\u001b[1;32m~\\AppData\\Local\\Continuum\\anaconda3\\lib\\site-packages\\pandas\\core\\groupby\\grouper.py\u001b[0m in \u001b[0;36m_get_grouper\u001b[1;34m(obj, key, axis, level, sort, observed, mutated, validate)\u001b[0m\n\u001b[0;32m    619\u001b[0m                 \u001b[0min_axis\u001b[0m\u001b[1;33m,\u001b[0m \u001b[0mname\u001b[0m\u001b[1;33m,\u001b[0m \u001b[0mlevel\u001b[0m\u001b[1;33m,\u001b[0m \u001b[0mgpr\u001b[0m \u001b[1;33m=\u001b[0m \u001b[1;32mFalse\u001b[0m\u001b[1;33m,\u001b[0m \u001b[1;32mNone\u001b[0m\u001b[1;33m,\u001b[0m \u001b[0mgpr\u001b[0m\u001b[1;33m,\u001b[0m \u001b[1;32mNone\u001b[0m\u001b[1;33m\u001b[0m\u001b[1;33m\u001b[0m\u001b[0m\n\u001b[0;32m    620\u001b[0m             \u001b[1;32melse\u001b[0m\u001b[1;33m:\u001b[0m\u001b[1;33m\u001b[0m\u001b[1;33m\u001b[0m\u001b[0m\n\u001b[1;32m--> 621\u001b[1;33m                 \u001b[1;32mraise\u001b[0m \u001b[0mKeyError\u001b[0m\u001b[1;33m(\u001b[0m\u001b[0mgpr\u001b[0m\u001b[1;33m)\u001b[0m\u001b[1;33m\u001b[0m\u001b[1;33m\u001b[0m\u001b[0m\n\u001b[0m\u001b[0;32m    622\u001b[0m         \u001b[1;32melif\u001b[0m \u001b[0misinstance\u001b[0m\u001b[1;33m(\u001b[0m\u001b[0mgpr\u001b[0m\u001b[1;33m,\u001b[0m \u001b[0mGrouper\u001b[0m\u001b[1;33m)\u001b[0m \u001b[1;32mand\u001b[0m \u001b[0mgpr\u001b[0m\u001b[1;33m.\u001b[0m\u001b[0mkey\u001b[0m \u001b[1;32mis\u001b[0m \u001b[1;32mnot\u001b[0m \u001b[1;32mNone\u001b[0m\u001b[1;33m:\u001b[0m\u001b[1;33m\u001b[0m\u001b[1;33m\u001b[0m\u001b[0m\n\u001b[0;32m    623\u001b[0m             \u001b[1;31m# Add key to exclusions\u001b[0m\u001b[1;33m\u001b[0m\u001b[1;33m\u001b[0m\u001b[1;33m\u001b[0m\u001b[0m\n",
      "\u001b[1;31mKeyError\u001b[0m: 'Borough'"
     ]
    }
   ],
   "source": [
    "count_boroughs = borough_group['park_borough'].count()\n",
    "crowd_data.groupby('Borough')[count_boroughs].plot(legend='True')\n",
    "plt.show()"
   ]
  },
  {
   "cell_type": "code",
   "execution_count": null,
   "metadata": {},
   "outputs": [],
   "source": []
  },
  {
   "cell_type": "code",
   "execution_count": null,
   "metadata": {},
   "outputs": [],
   "source": []
  },
  {
   "cell_type": "code",
   "execution_count": null,
   "metadata": {},
   "outputs": [],
   "source": []
  },
  {
   "cell_type": "code",
   "execution_count": null,
   "metadata": {},
   "outputs": [],
   "source": [
    "borough_data = pd.read_csv('QuickFacts.csv')\n",
    "\n",
    "borough_data = borough_data.drop(['Fact', 'Fact Note', \n",
    "                   'Value Note for New York County (Manhattan Borough), New York',\n",
    "                  'Value Note for Bronx County (Bronx Borough), New York',\n",
    "                  'Value Note for Queens County (Queens Borough), New York',\n",
    "                  'Value Note for Kings County (Brooklyn Borough), New York',\n",
    "                  'Value Note for Richmond County (Staten Island Borough), New York'], axis=1)\n",
    "\n",
    "borough_data"
   ]
  }
 ],
 "metadata": {
  "anaconda-cloud": {},
  "kernel_info": {
   "name": "python3"
  },
  "kernelspec": {
   "display_name": "Python 3",
   "language": "python",
   "name": "python3"
  },
  "language_info": {
   "codemirror_mode": {
    "name": "ipython",
    "version": 3
   },
   "file_extension": ".py",
   "mimetype": "text/x-python",
   "name": "python",
   "nbconvert_exporter": "python",
   "pygments_lexer": "ipython3",
   "version": "3.7.4"
  },
  "latex_envs": {
   "LaTeX_envs_menu_present": true,
   "autoclose": false,
   "autocomplete": true,
   "bibliofile": "biblio.bib",
   "cite_by": "apalike",
   "current_citInitial": 1,
   "eqLabelWithNumbers": true,
   "eqNumInitial": 1,
   "hotkeys": {
    "equation": "Ctrl-E",
    "itemize": "Ctrl-I"
   },
   "labels_anchors": false,
   "latex_user_defs": false,
   "report_style_numbering": false,
   "user_envs_cfg": false
  },
  "nteract": {
   "version": "0.12.3"
  }
 },
 "nbformat": 4,
 "nbformat_minor": 2
}
